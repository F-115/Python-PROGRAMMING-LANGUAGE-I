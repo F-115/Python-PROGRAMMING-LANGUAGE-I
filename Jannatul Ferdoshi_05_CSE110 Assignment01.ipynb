{
 "cells": [
  {
   "cell_type": "markdown",
   "metadata": {
    "colab_type": "text",
    "id": "fCQ1DXpxGfgb"
   },
   "source": [
    "# CSE110 Assignment 1\n",
    "\n",
    "This assignment is to guide you to solve basic programming problems in Python. Since this is the first assignment, the first problem is solved for you with explanations. Some problems are partially solved to help you. Go through them, try to understand and question each statment of the following questions and codes. If you can understand the problems and the solutions, solving more difficult problems would not seem so difficult. \n",
    "\n",
    "## Write the Python code of the following problems:\n"
   ]
  },
  {
   "cell_type": "markdown",
   "metadata": {
    "colab_type": "text",
    "id": "xnJdA0-HGfgd"
   },
   "source": [
    "### Task 1\n",
    "\n",
    "Write Python code of a program that reads two numbers from the user, and prints their sum, product, and difference.\n",
    "\n",
    "\n",
    "*hint: Subtract the second number from the first one*\n",
    "\n",
    "For your explanation, the first question's code is done below. Try relating the block of code with the lesson you have learned and understand the significance of each line. You're most welcome to play around with the code. This will strengthen your understanding.\n"
   ]
  },
  {
   "cell_type": "code",
   "execution_count": 1,
   "metadata": {
    "colab": {
     "base_uri": "https://localhost:8080/",
     "height": 139
    },
    "colab_type": "code",
    "executionInfo": {
     "elapsed": 7321,
     "status": "ok",
     "timestamp": 1595313681982,
     "user": {
      "displayName": "Annajiat Alim Rasel",
      "photoUrl": "",
      "userId": "08948195101523025155"
     },
     "user_tz": -360
    },
    "id": "uRHc8yMPGfgf",
    "outputId": "3195986e-3b96-4146-c94f-c0236e79774d"
   },
   "outputs": [
    {
     "name": "stdout",
     "output_type": "stream",
     "text": [
      "Please Enter Your First Number:6\n",
      "Please Enter Your Second Number:5\n",
      "<class 'str'>\n",
      "<class 'str'>\n",
      "Sum is 11\n",
      "Product is 30\n",
      "Difference is -1\n"
     ]
    }
   ],
   "source": [
    "### Take input of 2 numbers from the user\n",
    "var_1 = input('Please Enter Your First Number:')\n",
    "var_2 = input('Please Enter Your Second Number:')\n",
    "\n",
    "#Since input() function converts everything to String,\n",
    "#for performing any kind of mathematical operation you need to convert them to int.\n",
    "#For this conversion, we need to use int() function\n",
    "\n",
    "\n",
    "# First, let's clarify whether the inputs are actually Strings or not. \n",
    "print(type(var_1))\n",
    "print(type(var_2))\n",
    "\n",
    "\n",
    "# Convert Strings to integer using the int() function\n",
    "var_3 = int(var_1)\n",
    "var_4 = int(var_2)\n",
    "\n",
    "# Perform Addition\n",
    "sum = var_3 + var_4\n",
    "\n",
    "# Perform Multiplication \n",
    "product = var_3 * var_4\n",
    "\n",
    "# Perform Substraction \n",
    "difference = var_4 - var_3\n",
    "\n",
    "# Print all the calculated results\n",
    "print(\"Sum is\", sum)\n",
    "print(\"Product is\", product)\n",
    "print(\"Difference is\", difference)\n"
   ]
  },
  {
   "cell_type": "markdown",
   "metadata": {
    "colab_type": "text",
    "id": "C0OMgWEJGfgq"
   },
   "source": [
    "### Task 2\n",
    "\n",
    "Write Python code of a program that reads the radius of a circle and prints its circumference and area.\n",
    "\n",
    "*hint: import math and then use math.pi for getting the value of pi. \n",
    "For details read from https://docs.python.org/3/library/math.html*\n",
    "\n",
    "**Example:**\\\n",
    "Input: 4\\\n",
    "Output:\\\n",
    "Area is 50.26548245743669\\\n",
    "Circumference is 25.132741228718345\n",
    "\n",
    "Input: 3.5\\\n",
    "Output:\\\n",
    "Area is 38.48451000647496\\\n",
    "Circumference is 21.991148575128552\n"
   ]
  },
  {
   "cell_type": "code",
   "execution_count": 8,
   "metadata": {
    "colab": {
     "base_uri": "https://localhost:8080/",
     "height": 87
    },
    "colab_type": "code",
    "executionInfo": {
     "elapsed": 3691,
     "status": "ok",
     "timestamp": 1595314422909,
     "user": {
      "displayName": "Annajiat Alim Rasel",
      "photoUrl": "",
      "userId": "08948195101523025155"
     },
     "user_tz": -360
    },
    "id": "WSXBP2LXGfgt",
    "outputId": "dd69c5bc-fe2e-4efa-94c5-88f1f3439538"
   },
   "outputs": [
    {
     "name": "stdout",
     "output_type": "stream",
     "text": [
      "please enter the value of radius : 3.5\n",
      "circumference of the circle is= 21.991148575128552\n",
      "area of the circle is= 38.48451000647496\n"
     ]
    }
   ],
   "source": [
    "import math\n",
    "\n",
    "#take input of radius\n",
    "radius = float(input(\"please enter the value of radius : \"))\n",
    "\n",
    "#convert strings to integer\n",
    "\n",
    "\n",
    "#find the value of circumference of a circle\n",
    "circumference = 2 * math.pi * radius\n",
    "\n",
    "#find the value of area\n",
    "area = float(math.pi * radius * radius )\n",
    "\n",
    "#result\n",
    "print(\"circumference of the circle is=\" , circumference)\n",
    "print(\"area of the circle is=\" , area)"
   ]
  },
  {
   "cell_type": "markdown",
   "metadata": {
    "colab_type": "text",
    "id": "ZeqsQp1SGfg1"
   },
   "source": [
    "#### Task 3\n",
    "\n",
    "Write Python code of a program that reads two numbers from the user. Your program should then print “First is greater” if the first number is greater, “Second is greater” if the second number is greater, and “The numbers are equal” otherwise."
   ]
  },
  {
   "cell_type": "code",
   "execution_count": null,
   "metadata": {
    "colab": {
     "base_uri": "https://localhost:8080/",
     "height": 270
    },
    "colab_type": "code",
    "executionInfo": {
     "elapsed": 3024,
     "status": "error",
     "timestamp": 1595314622674,
     "user": {
      "displayName": "Annajiat Alim Rasel",
      "photoUrl": "",
      "userId": "08948195101523025155"
     },
     "user_tz": -360
    },
    "id": "_nzWtVADGfg2",
    "outputId": "035806a4-d1eb-4524-bd6a-66a5df68237b"
   },
   "outputs": [],
   "source": [
    "#taking two number from user\n",
    "num_1 = input(\"enter the 1st number :\")\n",
    "num_2 = input(\"enter the 2nd number :\")\n",
    "\n",
    "#convert strings to integer\n",
    "num_3 = int(num_1)\n",
    "num_4 = int(num_2)\n",
    "\n",
    "#use condition\n",
    "if(num_3 > num_4):\n",
    "    print(\"First is greater\")\n",
    "elif(num_4 > num_3):\n",
    "    print(\"Second is greater\")\n",
    "else:\n",
    "    print(\"The numbers are equal\")"
   ]
  },
  {
   "cell_type": "markdown",
   "metadata": {
    "colab_type": "text",
    "id": "pD45tcrAGfhE"
   },
   "source": [
    "### Task 4\n",
    "\n",
    "Write Python code of a program that reads two numbers, subtracts the smaller number from the larger one, and prints the result.\n",
    "\n",
    "*hint: First check which number is greater*\n"
   ]
  },
  {
   "cell_type": "code",
   "execution_count": null,
   "metadata": {
    "colab": {},
    "colab_type": "code",
    "id": "RVA3MQUVGfhG"
   },
   "outputs": [],
   "source": [
    "#Take input of 2 numbers from the user & convert them into integers\n",
    "num_1 = int(input('enter the first number :'))\n",
    "num_2 = int(input('enter the second  number :'))\n",
    "\n",
    "#check which one is great & substracts them\n",
    "if(num_1 > num_2):\n",
    "    result = num_1 - num_2\n",
    "else:\n",
    "    result = num_2 - num_1\n",
    "print(result)"
   ]
  },
  {
   "cell_type": "markdown",
   "metadata": {
    "colab_type": "text",
    "id": "-hvCKXvBGfhS"
   },
   "source": [
    "### Task 5\n",
    "\n",
    "Write Python code of a program that reads a number, and prints “The number is even” or “The number is odd”, depending on whether the number is even or odd. \n",
    "\n",
    "*hint: use the modulus (%) operator*\n"
   ]
  },
  {
   "cell_type": "code",
   "execution_count": null,
   "metadata": {
    "colab": {
     "base_uri": "https://localhost:8080/",
     "height": 35
    },
    "colab_type": "code",
    "executionInfo": {
     "elapsed": 788,
     "status": "ok",
     "timestamp": 1595314901395,
     "user": {
      "displayName": "Annajiat Alim Rasel",
      "photoUrl": "",
      "userId": "08948195101523025155"
     },
     "user_tz": -360
    },
    "id": "JiDG3_d2GfhT",
    "outputId": "504bfb0c-dcff-4547-f9a3-183e723509f3"
   },
   "outputs": [],
   "source": [
    "#take a number from user\n",
    "num = int(input('Enter a number'))\n",
    "\n",
    "#condition\n",
    "if(num % 2 == 0):\n",
    "    print('the number is  even')\n",
    "else:\n",
    "    print('the number is odd')"
   ]
  },
  {
   "cell_type": "markdown",
   "metadata": {
    "colab_type": "text",
    "id": "GVYjPALYGfhf"
   },
   "source": [
    "### Task 6\n",
    "\n",
    "Write Python code of a program that reads an integer, and prints the integer if it is a multiple of **either 2 or 5.**\n",
    "\n",
    "For example, 2, 4, 5, 6, 8, 10, 12, 14, 15, 16, 18, 20, 22 …\n",
    "\n"
   ]
  },
  {
   "cell_type": "code",
   "execution_count": null,
   "metadata": {
    "colab": {
     "base_uri": "https://localhost:8080/",
     "height": 87
    },
    "colab_type": "code",
    "executionInfo": {
     "elapsed": 862,
     "status": "ok",
     "timestamp": 1595315828112,
     "user": {
      "displayName": "Annajiat Alim Rasel",
      "photoUrl": "",
      "userId": "08948195101523025155"
     },
     "user_tz": -360
    },
    "id": "NUnN12ceGfhi",
    "outputId": "337ee54d-9c3a-407b-c2c7-26def48c10c4"
   },
   "outputs": [],
   "source": [
    "#take input of an integer number\n",
    "num = int(input('enter an integer number :'))\n",
    "\n",
    "#conditions\n",
    "if (num % 2 == 0 or num % 5 == 0 ):\n",
    "    print(num)\n",
    "else:\n",
    "    print('it is not a multiple of either 2 or 5.')"
   ]
  },
  {
   "cell_type": "markdown",
   "metadata": {
    "colab_type": "text",
    "id": "hU2roAhSGfhv"
   },
   "source": [
    "### Task 7\n",
    "Write Python code of a program that reads an integer, and prints the integer  it is a multiple of **either 2 or 5 but not both.** \n",
    "\n",
    "For example, 2, 4, 5, 6, 8, 12, 14, 15, 16, 18, 22 …\n"
   ]
  },
  {
   "cell_type": "code",
   "execution_count": null,
   "metadata": {
    "colab": {},
    "colab_type": "code",
    "id": "YmLnrgNBGfhw"
   },
   "outputs": [],
   "source": [
    "#take input of an integer number\n",
    "num = int(input('enter an integer number :'))\n",
    "\n",
    "#conditions\n",
    "if(num % 2 != 0 and num % 5 == 0 ):\n",
    "    print(num)\n",
    "elif(num % 2 == 0 and num % 5 != 0 ):\n",
    "    print(num)\n",
    "\n",
    "else:\n",
    "    print('it is not a multiple of either 2 or 5 but can be both')"
   ]
  },
  {
   "cell_type": "markdown",
   "metadata": {
    "colab_type": "text",
    "id": "mTZlOw_DGfh3"
   },
   "source": [
    "### Task 8\n",
    "Write Python code of a program that reads an integer, and prints the integer if it is a multiple of **2 and 5.**\n",
    "\n",
    "For example, 10, 20, 30, 40, 50 …\n",
    "\n"
   ]
  },
  {
   "cell_type": "code",
   "execution_count": null,
   "metadata": {
    "colab": {},
    "colab_type": "code",
    "id": "IY5lUuwDGfh4"
   },
   "outputs": [],
   "source": [
    "#take input of an integer\n",
    "num = int(input('enter an integer number :'))\n",
    "\n",
    "#conditions\n",
    "if(num % 2 == 0 and num % 5 == 0 ):\n",
    "    print(num)\n",
    "else:\n",
    "    print(\"it is not a multiple of 2 and 5\")"
   ]
  },
  {
   "cell_type": "markdown",
   "metadata": {
    "colab_type": "text",
    "id": "s0bQ_l06Gfh_"
   },
   "source": [
    "### Task 9\n",
    "\n",
    "\n",
    "Write Python code of a program that reads an integer, and prints the integer if it is a multiple of **NEITHER 2 NOR 5.** \n",
    "\n",
    "For example, 1, 3, 7, 9, 11, 13, 17, 19, 21, 23, 27, 29, 31, 33, 37, 39 …\n"
   ]
  },
  {
   "cell_type": "code",
   "execution_count": null,
   "metadata": {
    "colab": {},
    "colab_type": "code",
    "id": "GYxAewhmGfiC"
   },
   "outputs": [],
   "source": [
    "#take input of an integer\n",
    "num = int(input('enter an integer number :'))\n",
    "\n",
    "#conditions\n",
    "if(num % 2 != 0 and num % 5 != 0 ):\n",
    "    print(num)\n",
    "else:print('it is a multiple of either 2 or 5.')"
   ]
  },
  {
   "cell_type": "markdown",
   "metadata": {
    "colab_type": "text",
    "id": "OG7YnNXwGfiJ"
   },
   "source": [
    "### Task 10\n",
    "\n",
    "Write Python code of a program that reads an integer, and prints the integer if it is **NOT a multiple of 2** OR **NOT a multiple of 5.**\n",
    "\n",
    "For example, 1, 2, 3, 4, 5, 6, 7, 8, 9, 11, 12, 13, 14, 15, 16, 17, 18, 19, 21, 22\n"
   ]
  },
  {
   "cell_type": "code",
   "execution_count": null,
   "metadata": {
    "colab": {},
    "colab_type": "code",
    "id": "Xlr4psggGfiK"
   },
   "outputs": [],
   "source": [
    "#take input of an integer\n",
    "num = int(input('enter an integer number :'))\n",
    "\n",
    "#conditions\n",
    "if(num % 2 != 0 or num % 5 != 0 ):\n",
    "    print(num)\n",
    "else:print('it is a multiple of 2 or a multiple of 5.')"
   ]
  },
  {
   "cell_type": "markdown",
   "metadata": {
    "colab_type": "text",
    "id": "n_IoPWkgGfiT"
   },
   "source": [
    "### Task 11\n",
    "\n",
    "Write Python code of a program that reads a student’s mark for a single subject, and prints out the corresponding grade for that mark. The mark ranges and corresponding grades are shown in the table below.\n",
    "\n",
    "*hint: This problem can be solved in two ways: top-down (starts from A) and bottom-up (starts from F)*\n",
    "\n",
    "\n",
    "| Marks | Grage|\n",
    "| --- | --- | \n",
    "|90 or above| A |\n",
    "|  |  | \n",
    "|80-89| B |\n",
    "|  |  | \n",
    "|70-79| C |\n",
    "|  |  | \n",
    "|60-69| D |\n",
    "|  |  | \n",
    "|50-59| E |\n",
    "|  |  | \n",
    "|Below 50| F |\n",
    "\n",
    "\n",
    "\n",
    "\n",
    "\n"
   ]
  },
  {
   "cell_type": "code",
   "execution_count": null,
   "metadata": {
    "colab": {},
    "colab_type": "code",
    "id": "fCZwcAAWGfiW"
   },
   "outputs": [],
   "source": [
    "#take input of a student's mark\n",
    "num = int(input(\" enter a student's mark : \"))\n",
    "                \n",
    "#conditions\n",
    "if(num >= 90 ):\n",
    "    print('A')\n",
    "    \n",
    "elif(num >= 80 and num <= 89):\n",
    "    print('B')\n",
    "    \n",
    "elif(num >= 70 and num <= 79):\n",
    "    print('c')\n",
    "    \n",
    "elif(num >= 60 and num <= 69):\n",
    "    print('D')\n",
    "    \n",
    "elif(num >= 50 and num <= 59):\n",
    "    print('E')\n",
    "    \n",
    "else:\n",
    "    print('F')"
   ]
  },
  {
   "cell_type": "markdown",
   "metadata": {
    "colab_type": "text",
    "id": "BFcmtLtQGfih"
   },
   "source": [
    "### Task 12\n",
    "\n",
    "Write Python code of a program to compute and display a person’s weekly salary as determined by the following conditions:\n",
    "If the hours worked are less than or equal to 40, the person receives Tk200.00 per hour, else the person receives Tk8000.00 plus Tk300.00 for each hour worked over 40 hours.\n",
    "The program should request the hours worked as input and should display the salary as output.\n",
    "\n",
    "**example1:**\\\n",
    "Input: 100\\\n",
    "Output: 26000\n",
    "\n",
    "**example2:**\\\n",
    "Input: 30\\\n",
    "Output: 6000\n"
   ]
  },
  {
   "cell_type": "code",
   "execution_count": null,
   "metadata": {
    "colab": {},
    "colab_type": "code",
    "id": "Yf7MBmWoGfik"
   },
   "outputs": [],
   "source": [
    "#take input of a persons working hours\n",
    "s = int(input('enter the hours that he worked : '))\n",
    "\n",
    "#conditions\n",
    "if( s <= 40 ):\n",
    "    salary = 200 * s\n",
    "    print('The salary of the person is = ', salary)\n",
    "else:\n",
    "    salary = 8000 + 300 * (s-40)\n",
    "    print('The salary of the person is = ', salary)"
   ]
  },
  {
   "cell_type": "markdown",
   "metadata": {
    "colab_type": "text",
    "id": "4AabRJzZGfix"
   },
   "source": [
    "### Task 13\n",
    "Write Python code of a program that finds the number of hours, minutes, and seconds in a **given number of seconds.** \n",
    "\n",
    "**Example:**\\\n",
    "Input: 10000 seconds\\\n",
    "Output: 2 Hours 46 minutes, 40 seconds\n",
    "\n",
    "*hints: 1 hour = 60 mins = 3600 seconds*\\\n",
    "*1min = 60 seconds* \n",
    "\n",
    "\n",
    "\n",
    "\n"
   ]
  },
  {
   "cell_type": "code",
   "execution_count": null,
   "metadata": {
    "colab": {},
    "colab_type": "code",
    "id": "Cc-f3x04Gfiz"
   },
   "outputs": [],
   "source": [
    "#take input of a number of seconds\n",
    "time = int(input('enter the time in seconds : '))\n",
    "\n",
    "#convert second\n",
    "hour = time // 3600\n",
    "minute = (time % 3600) // 60\n",
    "second = (time % 3600) // 60\n",
    "\n",
    "#print the result\n",
    "print( str(hour) + \" hour \" + str(minute) + \" minutes \" + str(second) + \" seconds \")"
   ]
  },
  {
   "cell_type": "markdown",
   "metadata": {
    "colab_type": "text",
    "id": "CFJxNTAoGfjC"
   },
   "source": [
    "### Task 14\n",
    "Suppose the following expressions are used to calculate the values of L for different values of S:\n",
    "\n",
    "$L =  3000-125S^2$ \n",
    "if     $S<100$\n",
    "\n",
    "$ L =  \\frac{12000}{4+S^2/14900}$\n",
    "if     $S\\geq100$\n",
    "\n",
    "Write a Python code of a program that reads a value of S and then calculates the value of L.\n",
    "\n",
    "For example:\\\n",
    "If S=3, L= 1875.\\\n",
    "If S=120, L= 2416.2162162162163\n",
    "\n",
    "\n",
    "*hints: You can import math and use math function for making squares math.pow(number, power)   Or you can simply write S**2.*"
   ]
  },
  {
   "cell_type": "code",
   "execution_count": null,
   "metadata": {
    "colab": {},
    "colab_type": "code",
    "id": "rjo4w7LmGfjE"
   },
   "outputs": [],
   "source": [
    "#take input of  x\n",
    "s = int(input('enter the value of s :'))\n",
    "\n",
    "#conditions\n",
    "if(s <= 100):\n",
    "    L = 3000 - 125 * s**2\n",
    "    print('L = ' , L)\n",
    "    \n",
    "else: \n",
    "    L = 12000 / (4 +( s**2/ 14900))\n",
    "    print(\"L = \" , L)"
   ]
  },
  {
   "cell_type": "markdown",
   "metadata": {
    "colab_type": "text",
    "id": "XZJAfFbGGfjV"
   },
   "source": [
    "### Task 15\n",
    "\n",
    "Take an hour from the user as input and tell it is time for which meal.\n",
    "\n",
    "•\tThe user will input the number in a 24-hour format. So, 14 means 2 pm, 3 means 3 am, 18 means 6 pm, etc.\\\n",
    "•\tValid inputs are 0 to 23. Inputs less than 0 or more than 23 are invalid in 24-hour clock.\\\n",
    "•\tAssume, Input will be whole numbers. For example, 3.5 will NOT be given as input.\n",
    "\n",
    "Inputs: Message to be printed\\\n",
    "4 to 6: Breakfast\\\n",
    "12 to 13: Lunch\\\n",
    "16 to 17: Snacks\\\n",
    "19 to 20: Dinner\\\n",
    "For all other valid inputs, say \"Patience is a virtue\"\\\n",
    "For all other invalid inputs, say \"Wrong time\"\n",
    "\n",
    "For example,\\\n",
    "If the user enters 4, your program should print the message \"Breakfast\".\\\n",
    "If the user enters 5, your program should print the message \"Breakfast\".\\\n",
    "If the user enters 6, your program should print the message \"Breakfast\".\\\n",
    "If the user enters 0, your program should print the message \"Patience is a virtue\".\\\n",
    "If the user enters 1, your program should print the message \"Patience is a virtue\".\\\n",
    "If the user enters 18, your program should print the message \"Patience is a virtue\".\\\n",
    "If the user enters 23, your program should print the message \"Patience is a virtue\".\\\n",
    "If the user enters 24, your program should print the message \"Wrong Time\".\\\n",
    "If the user enters -1, your program should print the message \"Wrong Time\".\\\n",
    "If the user enters 27, your program should print the message \"Wrong time\".\n",
    "\n",
    "Hints:\\\n",
    "You can use nested conditionals (if-else) or chained conditions (if-elif-else) to solve this problem.\n",
    "\n"
   ]
  },
  {
   "cell_type": "code",
   "execution_count": null,
   "metadata": {
    "colab": {
     "base_uri": "https://localhost:8080/",
     "height": 35
    },
    "colab_type": "code",
    "executionInfo": {
     "elapsed": 813,
     "status": "ok",
     "timestamp": 1595321871539,
     "user": {
      "displayName": "Annajiat Alim Rasel",
      "photoUrl": "",
      "userId": "08948195101523025155"
     },
     "user_tz": -360
    },
    "id": "OH8iugaYGfjX",
    "outputId": "2abf24a4-a56d-495e-fb41-e151811c912a"
   },
   "outputs": [],
   "source": [
    "#input of time\n",
    "time = int(input('enter any time :'))\n",
    "\n",
    "#conditions\n",
    "if(time >= 4 and time <= 6):\n",
    "    print('breakfast')\n",
    "elif(time >= 12 and time <=13):\n",
    "    print('lunch')\n",
    "elif(time >=16 and time <=17):\n",
    "    print('snacks')\n",
    "elif(time >= 19 and time <=20):\n",
    "    print('dinner')\n",
    "elif(time < 0  or time > 23):\n",
    "    print('wrong time')\n",
    "else:\n",
    "    print(\" patience is a virtue\")"
   ]
  }
 ],
 "metadata": {
  "colab": {
   "name": "CSE110 Assignment01.ipynb",
   "provenance": []
  },
  "kernelspec": {
   "display_name": "Python 3",
   "language": "python",
   "name": "python3"
  },
  "language_info": {
   "codemirror_mode": {
    "name": "ipython",
    "version": 3
   },
   "file_extension": ".py",
   "mimetype": "text/x-python",
   "name": "python",
   "nbconvert_exporter": "python",
   "pygments_lexer": "ipython3",
   "version": "3.8.3"
  }
 },
 "nbformat": 4,
 "nbformat_minor": 1
}
