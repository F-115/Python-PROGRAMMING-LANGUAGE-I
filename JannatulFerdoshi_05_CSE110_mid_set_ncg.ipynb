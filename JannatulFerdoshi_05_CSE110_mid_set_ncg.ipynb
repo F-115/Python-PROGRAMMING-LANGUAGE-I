{
 "cells": [
  {
   "cell_type": "markdown",
   "metadata": {
    "colab_type": "text",
    "id": "0ZcT5c9CjT8P"
   },
   "source": [
    "# SUMMER 2020\n",
    "\n",
    "# CSE110 MID\n",
    "**<font color='red'>[MUST MAINTAIN VARIABLE NAMING CONVENTIONS FOR ALL THE TASKS]</font>**\n",
    "\n",
    "**<font color='red'>[Writing comments(explanatory sentences) in any of the code is completely optional]</font>**"
   ]
  },
  {
   "cell_type": "markdown",
   "metadata": {
    "colab_type": "text",
    "id": "hQCnOmw6iWER"
   },
   "source": [
    "# Task 01\n",
    "Mrs. Khan is planning to make biryani. For her special recipe of biryani, she has all the ingredients except the basmati rice and the sour curd. The price of one kg of basmati rice is **350 taka** and the price of one kg sour card is **200 taka**. She will order these ingredients from her local store. The store will offer a discount depending on the total bill amount. The table below shows the discount she will get on her total amount.\n",
    "\n",
    "\n",
    "\n",
    "\n",
    "\n",
    "|Total Amount (TK)|Discount (TK)|\n",
    "|------|------|\n",
    "|0 - 450|No Discount|\n",
    "|451 - 699|20|\n",
    "|700 - 849 |40|\n",
    "|850 - 1599|100|\n",
    "|>= 1600|250|\n",
    "\n",
    "Write a python program and take two inputs from the user. The first input will be the amount of basmati rice in kgs and the second input will be the amount of sour curds in kgs. Based on the price of each item, calculate the total amount that Mrs. Khan will have to pay. \n",
    "\n",
    " ================================\n",
    "\n",
    "\n",
    "**Sample input(1):**\\\n",
    "3\\\n",
    "2\n",
    "\n",
    "**Sample Output(1):**\\\n",
    "Previous total: 1450\\\n",
    "New total after discount: 1350\n",
    "\n",
    "**Explanation(1):** 3* 350 + 2 *200 = 1450 Tk was her bill without discount.  For 1450 Tk, the discount amount is 100 Tk. So, with discount, her updated bill is (1450-100)= 1350Tk\n",
    "\n",
    "================================\n",
    "\n",
    "**Sample input (2):**\\\n",
    "1\\\n",
    "0\n",
    "\n",
    "\n",
    "\n",
    "\n",
    "**Sample output (2):**\\\n",
    "Previous total: 350\\\n",
    "New total after discount: 350\n",
    "\n",
    "\n",
    "Explanation(2):  1* 350 + 0 *200 = 350 Tk was her bill without discount.  For 350 Tk, the discount amount is 0Tk. So, with discount, her updated bill is (350-0)= 350Tk.\n",
    "\n",
    "\n"
   ]
  },
  {
   "cell_type": "code",
   "execution_count": 25,
   "metadata": {
    "colab": {},
    "colab_type": "code",
    "id": "P0vIwmbeiWEU"
   },
   "outputs": [
    {
     "name": "stdout",
     "output_type": "stream",
     "text": [
      "The amount of basmati rice in kgs:3\n",
      "The amount of sour curds in kgs:2\n",
      "Previous total: 1450\n",
      "New total after discount: 1350\n"
     ]
    }
   ],
   "source": [
    "#task 1\n",
    "#to do\n",
    "\n",
    "r=int(input(\"The amount of basmati rice in kgs:\"))\n",
    "sc=int(input(\"The amount of sour curds in kgs:\"))\n",
    "\n",
    "bill= r*350+sc*200\n",
    "print(\"Previous total:\",bill)\n",
    "\n",
    "if (0<= bill <=450):\n",
    "    print(\"New total after discount:\",bill)\n",
    "    \n",
    "elif(451<= bill <=699):\n",
    "    new_bill= bill-20\n",
    "    print(\"New total after discount:\",new_bill)\n",
    "    \n",
    "elif(700<= bill <=849):\n",
    "    new_bill= bill-40\n",
    "    print(\"New total after discount:\",new_bill)\n",
    "    \n",
    "elif(850<= bill <=1599):\n",
    "    new_bill= bill-100\n",
    "    print(\"New total after discount:\",new_bill)\n",
    "    \n",
    "elif( bill >=1600):\n",
    "    new_bill= bill-250\n",
    "    print(\"New total after discount:\",new_bill)"
   ]
  },
  {
   "cell_type": "markdown",
   "metadata": {
    "colab_type": "text",
    "id": "zUyYKkWViWEd"
   },
   "source": [
    "# Task 02\n",
    "Write a Python program that takes your BRACU Student ID as an input from the user and print the **total number of odd digits** in the ID.\n",
    "\n",
    "\n",
    " \n",
    "  ================================\n",
    " \n",
    "**Sample input 1:**\\\n",
    " 19101211\\\n",
    "**Sample output 1:**\\\n",
    " 6 Odds\n",
    " \n",
    "  ================================\n",
    "\n",
    "**Sample input 2:**\\\n",
    "14301185\\\n",
    "**Sample output 2:**\\\n",
    " 5 Odds\n"
   ]
  },
  {
   "cell_type": "code",
   "execution_count": 27,
   "metadata": {
    "colab": {},
    "colab_type": "code",
    "id": "_oEJ6XwgiWEh"
   },
   "outputs": [
    {
     "name": "stdout",
     "output_type": "stream",
     "text": [
      "BRACU Student ID:14301185\n",
      "5 Odds\n"
     ]
    }
   ],
   "source": [
    "#task 2\n",
    "#to do\n",
    "\n",
    "num = (input('BRACU Student ID:'))\n",
    "count_odd = 0\n",
    "\n",
    "for y in (num):\n",
    "    if int(y) % 2:\n",
    "        count_odd+=1\n",
    "    \n",
    "print(count_odd,\"Odds\")"
   ]
  },
  {
   "cell_type": "markdown",
   "metadata": {
    "colab_type": "text",
    "id": "CEhXrQIhiWEo"
   },
   "source": [
    "# Task 03\n",
    "Write a program that takes a String as the input from the user and prints **“True”** if the string has the character **comma “,” at least once**. Otherwise, prints “False”.\n",
    "\n",
    "**<font color='red'>( You cannot use the built-in count()  method )**\n",
    "\n",
    "\n",
    " \n",
    "  ================================\n",
    " \n",
    "**Sample input 1:**\\\n",
    " If you are a gentleman, do not cheat.\\\n",
    "**Sample output 1:**\\\n",
    " True\n",
    " \n",
    "  ================================\n",
    "\n",
    "**Sample input 2:**\\\n",
    "No worries Henry.\\\n",
    "**Sample output 2:**\\\n",
    "False\n"
   ]
  },
  {
   "cell_type": "code",
   "execution_count": 30,
   "metadata": {
    "colab": {},
    "colab_type": "code",
    "id": "gWQIR06LiWEp"
   },
   "outputs": [
    {
     "name": "stdout",
     "output_type": "stream",
     "text": [
      "enter a str: No worries Henry.\n",
      "False\n"
     ]
    }
   ],
   "source": [
    "#task 3\n",
    "#to do\n",
    "\n",
    "str = input(\"enter a str: \")\n",
    "\n",
    "#conditions to check if comma \",\" exists\n",
    "\n",
    "if (\",\") in str:\n",
    "    print(\"True\")\n",
    "    \n",
    "else:\n",
    "    print(\"False\")\n",
    "    "
   ]
  }
 ],
 "metadata": {
  "colab": {
   "collapsed_sections": [],
   "name": "set 04.ipynb",
   "provenance": []
  },
  "kernelspec": {
   "display_name": "Python 3",
   "language": "python",
   "name": "python3"
  },
  "language_info": {
   "codemirror_mode": {
    "name": "ipython",
    "version": 3
   },
   "file_extension": ".py",
   "mimetype": "text/x-python",
   "name": "python",
   "nbconvert_exporter": "python",
   "pygments_lexer": "ipython3",
   "version": "3.7.6"
  }
 },
 "nbformat": 4,
 "nbformat_minor": 1
}
