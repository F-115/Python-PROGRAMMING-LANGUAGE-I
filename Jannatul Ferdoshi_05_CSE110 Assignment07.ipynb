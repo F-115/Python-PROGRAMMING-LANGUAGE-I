{
 "cells": [
  {
   "cell_type": "markdown",
   "metadata": {
    "colab_type": "text",
    "id": "oMYzsTcnHEll"
   },
   "source": [
    "# CSE110 Assignment 7\n",
    "\n",
    "\n",
    "## Write the Python code of the following problems:\n",
    "**<font color='red'>[MUST MAINTAIN VARIABLE NAMING CONVENTIONS FOR ALL THE TASKS]</font>**"
   ]
  },
  {
   "cell_type": "markdown",
   "metadata": {
    "colab_type": "text",
    "id": "jT-t2zlnHEll"
   },
   "source": [
    "### Task 1\n",
    "\n",
    "Given a list named my_list. <br/>\n",
    "my_list=[10,1,20,3,6,2,5,11,15,2,12,14,17,18,29] <br/>\n",
    "Now use bubble sort to sort my_list into ascending order.\n",
    "\n",
    "**Output**<br/>\n",
    "[1, 2, 2, 3, 5, 6, 10, 11, 12, 14, 15, 17, 18, 20, 29]"
   ]
  },
  {
   "cell_type": "code",
   "execution_count": 1,
   "metadata": {
    "colab": {},
    "colab_type": "code",
    "id": "7qXVakLgHElm"
   },
   "outputs": [
    {
     "name": "stdout",
     "output_type": "stream",
     "text": [
      "[1, 2, 2, 3, 5, 6, 10, 11, 12, 14, 15, 17, 18, 20, 29]\n"
     ]
    }
   ],
   "source": [
    "#todo\n",
    "my_list=[10,1,20,3,6,2,5,11,15,2,12,14,17,18,29]\n",
    "for index in range(len(my_list)-1):\n",
    "    for count in range (0,(len(my_list)-index-1)):\n",
    "        if my_list[count]>my_list[count+1]:\n",
    "            t=my_list[count]\n",
    "            my_list[count]=my_list[count+1]\n",
    "            my_list[count+1]=t\n",
    "\n",
    "print(my_list)"
   ]
  },
  {
   "cell_type": "markdown",
   "metadata": {
    "colab_type": "text",
    "id": "w1QgeWd2HElp"
   },
   "source": [
    "### Task 2\n",
    "\n",
    "Given a list named my_list. <br/>\n",
    "my_list=[10,1,20,3,6,2,5,11,15,2,12,14,17,18,29] <br/>\n",
    "Now use selection sort to sort my_list into ascending order.\n",
    "\n",
    "**Output**<br/>\n",
    "[1, 2, 2, 3, 5, 6, 10, 11, 12, 14, 15, 17, 18, 20, 29]\n",
    "\n"
   ]
  },
  {
   "cell_type": "code",
   "execution_count": 2,
   "metadata": {
    "colab": {},
    "colab_type": "code",
    "id": "am0B_8ICHElq"
   },
   "outputs": [
    {
     "name": "stdout",
     "output_type": "stream",
     "text": [
      "[1, 2, 2, 3, 5, 6, 10, 11, 12, 14, 15, 17, 18, 20, 29]\n"
     ]
    }
   ],
   "source": [
    "#todo\n",
    "my_list=[10,1,20,3,6,2,5,11,15,2,12,14,17,18,29]\n",
    "for index in range (len(my_list)):\n",
    "    i=index\n",
    "    for count in range (index+1,(len(my_list))):\n",
    "        if my_list[count]<my_list[i]:\n",
    "            i=count\n",
    "    lst=my_list[i]\n",
    "    my_list[i]=my_list[index]\n",
    "    my_list[index]=lst\n",
    "print(my_list)"
   ]
  },
  {
   "cell_type": "markdown",
   "metadata": {
    "colab_type": "text",
    "id": "j4ffr2CAHElt"
   },
   "source": [
    "### Task  3\n",
    "\n",
    "Given a list named my_list. <br/>\n",
    "my_list=[10,1,20,3,6,2,5,11,15,2,12,14,17,18,29] <br/>\n",
    "Now use any of the two sorts used above to sort the list in descending order.\n",
    "\n",
    "**Output**<br/>\n",
    "[29, 20, 18, 17, 15, 14, 12, 11, 10, 6, 5, 3, 2, 2, 1]\n"
   ]
  },
  {
   "cell_type": "code",
   "execution_count": 3,
   "metadata": {
    "colab": {},
    "colab_type": "code",
    "id": "n2X3YR-_HElt"
   },
   "outputs": [
    {
     "name": "stdout",
     "output_type": "stream",
     "text": [
      "[29, 20, 18, 17, 15, 14, 12, 11, 10, 6, 5, 3, 2, 2, 1]\n"
     ]
    }
   ],
   "source": [
    "#todo\n",
    "my_list=[10,1,20,3,6,2,5,11,15,2,12,14,17,18,29]\n",
    "counter=True\n",
    "if counter==True:\n",
    "    for index in range(len(my_list)-1):\n",
    "        for count in range(0,(len(my_list)-index-1)):\n",
    "            if my_list[count]<my_list[count+1]:\n",
    "                lst=my_list[count]\n",
    "                my_list[count]=my_list[count+1]\n",
    "                my_list[count+1]=lst\n",
    "print(my_list)"
   ]
  },
  {
   "cell_type": "markdown",
   "metadata": {
    "colab_type": "text",
    "id": "9iYiiTWWHElw"
   },
   "source": [
    "### Task 4\n",
    "\n",
    "Suppose you have a sitting arrangement of the students of the final exam in a list. The list contains the last two digits of their roll number.<br/>\n",
    "\n",
    "sitting_list=[10,30,20,70,11,15,22,16,58,100,12,56,70,80] <br/>\n",
    "\n",
    "Now you want to organize the sitting arrangement. You decided to sort all the students in the even indices into ascending order and all the students in the odd indices  into descending order.  <br/>\n",
    "\n",
    "So write a python program that organizes the list for you the way you decided.<br/>\n",
    "\n",
    "\n",
    "**Sample Output**<br/>\n",
    "[10, 100, 11, 80, 12, 70, 20, 56, 22, 30, 58, 16, 70, 15]"
   ]
  },
  {
   "cell_type": "code",
   "execution_count": 4,
   "metadata": {
    "colab": {},
    "colab_type": "code",
    "id": "nPdUAKDJHElw"
   },
   "outputs": [
    {
     "name": "stdout",
     "output_type": "stream",
     "text": [
      "[10, 100, 11, 80, 12, 70, 20, 56, 22, 30, 58, 16, 70, 15]\n"
     ]
    }
   ],
   "source": [
    "#todo\n",
    "\n",
    "sitting_list = [10, 30, 20, 70, 11, 15, 22, 16, 58, 100, 12, 56, 70, 80]\n",
    "even_indices = []\n",
    "odd_indices  = []\n",
    "\n",
    "for idx in range(len(sitting_list)):\n",
    "    if (idx) % 2 == 0:\n",
    "        even_indices.append(sitting_list[idx])\n",
    "    else:\n",
    "        odd_indices.append(sitting_list[idx])\n",
    "        \n",
    "even_indices.sort()\n",
    "odd_indices.sort(reverse=True)\n",
    "updated_list=[]\n",
    "\n",
    "for idx in range(len(even_indices)):\n",
    "    update=(even_indices[idx],odd_indices[idx])\n",
    "    for idx in update:\n",
    "        updated_list.append(idx)\n",
    "print(updated_list)"
   ]
  },
  {
   "cell_type": "markdown",
   "metadata": {
    "colab_type": "text",
    "id": "oVR1Tsa0HElz"
   },
   "source": [
    "### Task 5\n",
    "\n",
    "Suppose a list contains the final exam results of CSE110, PHY111, and MAT110 of each student in a listed form. Your task is to sort the list based on a course name that will be given by the user and print the names after sorting. <br/>\n",
    "\n",
    "For example, a list looks like <br/>\n",
    "Lst = [ [‘Farzad’,95,87,91] , [‘Mahjabin’,92,90,83], [‘Sadman’,87,92,80], [‘Nakhla’,85,94,90] ] <br/>\n",
    "where for each list, 1st index is name, 2nd index is CSE110, 3rd index is PHY111 and 4th index is MAT110. \n",
    "\n",
    "**Sample Input**<br/>\n",
    "MAT110\n",
    "\n",
    "**Sample Output**<br/>\n",
    "Farzad <br/>\n",
    "Nakhla <br/>\n",
    "Mahjabin <br/>\n",
    "Sadman\n",
    "\n",
    "**Hint:**<br/>\n",
    "Nested list can be accessed by listname[firstIndex][secondIndex] like lst[0][0] will give Farzad\n"
   ]
  },
  {
   "cell_type": "code",
   "execution_count": null,
   "metadata": {
    "colab": {},
    "colab_type": "code",
    "id": "539b2P1NHElz"
   },
   "outputs": [],
   "source": [
    "#todo\n",
    "subject=input('Course name:')\n",
    "Lst = [ ['Farzad',95,87,91] , ['Mahjabin',92,90,83], ['Sadman',87,92,80], ['Nakhla',85,94,90] ]\n",
    "\n",
    "if subject=='CSE110':\n",
    "    count=1\n",
    "elif subject=='PHY111':\n",
    "    count=2\n",
    "elif subject=='MAT110':\n",
    "    count=3\n",
    "for index in range(len(Lst)-1):\n",
    "    for counter in range(len(Lst)-1-index):\n",
    "        if Lst[counter][count]<Lst [counter+1][count]:\n",
    "            old_list=Lst[counter]\n",
    "            Lst[counter]=Lst[counter+1]\n",
    "            Lst[counter+1]=old_list\n",
    "for y in range(len(Lst)):\n",
    "    print(Lst[y][0])"
   ]
  },
  {
   "cell_type": "markdown",
   "metadata": {
    "colab_type": "text",
    "id": "B0Rqbyi4HEl2"
   },
   "source": [
    "### Task 6\n",
    "\n",
    "Suppose you have a list named my_list. Your task is to sort the list and print the count of numbers that have changed their position. <br/>\n",
    "my_list = [4,2,3,1,6,5] <br/>\n",
    "Sorted list would be [1,2,3,4,5,6] where 4 numbers have changed their position.\n",
    "\n",
    "\n",
    "**Sample Output**<br/>\n",
    "4"
   ]
  },
  {
   "cell_type": "code",
   "execution_count": null,
   "metadata": {
    "colab": {},
    "colab_type": "code",
    "id": "AMc8jAa7HEl2"
   },
   "outputs": [],
   "source": [
    "#todo\n",
    "def sort(my_list):\n",
    "    my_list= [4,2,3,1,6,5]\n",
    "    for index in range(len(list_two)-1,0,-1):\n",
    "        for count in range(index):\n",
    "            if list_two[count]>list_two[count+1]:\n",
    "                lst=list_two[count]\n",
    "                list_two[count]=list_two[count+1]\n",
    "                list_two[count+1]=lst\n",
    "    counter=0\n",
    "    for index in range(len(list_two)):\n",
    "        if my_list[index]==list_two[index]:\n",
    "            counter=counter+1\n",
    "    removed=len(list_two)-counter\n",
    "    print(removed)\n",
    "list_two=[4,2,3,1,6,5]\n",
    "sort(list_two)"
   ]
  },
  {
   "cell_type": "markdown",
   "metadata": {
    "colab_type": "text",
    "id": "iIH5n0sJHEl5"
   },
   "source": [
    "### Task 7\n",
    "\n",
    "Write a python program that takes two lists from the user, merges the two lists, sorts the list, and find the median of the elements of the two lists.\n",
    "\n",
    "**Sample Input 1**<br/>\n",
    "list_one= [1,2,1,4] <br/>\n",
    "list_two= [5,4,1]\n",
    "\n",
    "\n",
    "**Sample Output 1**<br/>\n",
    "Sorted list= [1, 1, 1, 2, 4, 4, 5] <br/>\n",
    "Median = 2\n",
    "\n",
    "**Sample Input 2**<br/>\n",
    "list_one= [1,7,9,10] <br/>\n",
    "list_two= [2,7,6,5]\n",
    "\n",
    "\n",
    "**Sample Output 2**<br/>\n",
    "Sorted list=[1, 2, 5, 6, 7, 7, 9, 10] <br/>\n",
    "Median=6.5\n",
    "\n"
   ]
  },
  {
   "cell_type": "code",
   "execution_count": null,
   "metadata": {
    "colab": {},
    "colab_type": "code",
    "id": "KsFxC7XbHEl6"
   },
   "outputs": [],
   "source": [
    "#todo\n",
    "def merging_lists(list_one, list_two):\n",
    "    if len(list_one) == len(list_two):\n",
    "        joined_list = list_one + list_two\n",
    "        return joined_list\n",
    "\n",
    "    elif len(list_one) > len(list_two):\n",
    "        joined_list = []\n",
    "        for i in range(len(list_two)):\n",
    "            joined_list.extend([list_one[i], list_two[i]])\n",
    "        temp = list_one[(len(list_two)):]\n",
    "        joined_list.extend(temp)\n",
    "        return joined_list\n",
    "    else:\n",
    "        joined_list = []\n",
    "        for i in range(len(list_one)):\n",
    "            joined_list.extend([list_one[i], list_two[i]])\n",
    "        temp = list_two[(len(list_one)):]\n",
    "        joined_list.extend(temp)\n",
    "        return joined_list\n",
    "\n",
    "\n",
    "def sorted_list(merged_list):\n",
    "    for idx in range(len(merged_list) - 1):\n",
    "        min_indx = idx\n",
    "        for j in range(idx + 1, len(merged_list)):\n",
    "            if merged_list[j] < merged_list[min_indx]:\n",
    "                min_indx = j\n",
    "        swap(min_indx, idx, merged_list)\n",
    "    return merged_list\n",
    "\n",
    "\n",
    "def swap(i, j, arr):\n",
    "    temp = arr[i]\n",
    "    arr[i] = arr[j]\n",
    "    arr[j] = temp\n",
    "\n",
    "\n",
    "def finding_median(sorted_list):\n",
    "    sorted_list_length = len(sorted_list)\n",
    "    if sorted_list_length % 2 != 0:\n",
    "        temp = sorted_list_length // 2\n",
    "        return sorted_list[temp]\n",
    "\n",
    "    else:\n",
    "        temp =sorted_list_length // 2\n",
    "        return float((sorted_list[temp] + sorted_list[temp-1])/2)\n",
    "\n",
    "\n",
    "length_one = int(input(\"Enter the length of list one: \"))\n",
    "list_one = []\n",
    "for i in range(length_one):\n",
    "    user_input_1 = int(input(\"Enter a value into list one: \"))\n",
    "    list_one.append(user_input_1)\n",
    "\n",
    "length_two = int(input(\"Enter the length of list two: \"))\n",
    "list_two = []\n",
    "for i in range(length_two):\n",
    "    user_input_2 = int(input(\"Enter a value into list two : \"))\n",
    "    list_two.append(user_input_2)\n",
    "merged_list = merging_lists(list_one, list_two)\n",
    "sorted_list = sorted_list(merged_list)\n",
    "print(\"Sorted list = \", sorted_list)\n",
    "median = finding_median(sorted_list)\n",
    "print(\"Median = \", median)"
   ]
  },
  {
   "cell_type": "markdown",
   "metadata": {
    "colab_type": "text",
    "id": "-XKiwBR1HEl8"
   },
   "source": [
    "# 5##### Task 8\n",
    "\n",
    "\n",
    "Write a python program that takes a list from user containing both positive and negative numbers. The program then finds two pairs of values whose summation is closest to zero.\n",
    "\n",
    "**Sample Input 1**<br/>\n",
    "list_one=[-10,15,2,4,-4,7,-8] \n",
    "\n",
    "\n",
    "**Sample Output 1**<br/>\n",
    "Two pairs which have the smallest sum = 4 and -4\n",
    "\n",
    "\n",
    "**Sample Input 2**<br/>\n",
    "list_one=[1,-8,4,-7,-20,26,70,-85]\n",
    "\n",
    "\n",
    "**Sample Output 2**<br/>\n",
    "Two pairs which have the smallest sum = 4 and -7"
   ]
  },
  {
   "cell_type": "code",
   "execution_count": null,
   "metadata": {
    "colab": {},
    "colab_type": "code",
    "id": "5ORSGa5GHEl9"
   },
   "outputs": [],
   "source": [
    "#### todo\n",
    "def sum_close_to_zero(list_one):\n",
    "    total = abs(list_one[0] + list_one[1])\n",
    "    first_num = list_one[0]\n",
    "    sec_num = list_one[1]\n",
    "    for i in range(len(list_one) - 1):\n",
    "        indx = i\n",
    "        for j in range(indx + 1, len(list_one)):\n",
    "            temp_total = abs(list_one[indx] + list_one[j])\n",
    "            if temp_total < total:\n",
    "                total = temp_total\n",
    "                first_num = list_one[indx]\n",
    "                sec_num = list_one[j]\n",
    "\n",
    "    print(\"Two pairs which have the smallest sum = \" + str(first_num) + \" and \" + str(sec_num))\n",
    "\n",
    "length = int(input(\"Enter the length of the list: \"))\n",
    "list_one = []\n",
    "for i in range(length):\n",
    "    user_input = int(input(\"Enter a value into the list: \"))\n",
    "    list_one.append(user_input)\n",
    "sum_close_to_zero(list_one)"
   ]
  }
 ],
 "metadata": {
  "colab": {
   "collapsed_sections": [],
   "name": "CSE110 Assignment07.ipynb",
   "provenance": []
  },
  "kernelspec": {
   "display_name": "Python 3",
   "language": "python",
   "name": "python3"
  },
  "language_info": {
   "codemirror_mode": {
    "name": "ipython",
    "version": 3
   },
   "file_extension": ".py",
   "mimetype": "text/x-python",
   "name": "python",
   "nbconvert_exporter": "python",
   "pygments_lexer": "ipython3",
   "version": "3.7.6"
  }
 },
 "nbformat": 4,
 "nbformat_minor": 1
}
